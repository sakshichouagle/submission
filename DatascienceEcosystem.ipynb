{
 "cells": [
  {
   "cell_type": "markdown",
   "id": "a58a9c9f-b64e-4556-9bdb-38700d9d5552",
   "metadata": {},
   "source": [
    " # Data Science Tools and Ecosystem"
   ]
  },
  {
   "cell_type": "markdown",
   "id": "651215f0-d686-43f6-a65c-01f12846d542",
   "metadata": {},
   "source": [
    " In this notebook ,Data science tools and Ecosystem are summarized"
   ]
  },
  {
   "cell_type": "markdown",
   "id": "de5cfd07-c4ab-49d5-8477-ea06f4adfaab",
   "metadata": {},
   "source": [
    "some of the popular languages that data scientists use are:\n",
    "1. R language \n",
    "2. MYSQL\n",
    "3. Python\n",
    "4. scala \n",
    "5. Julia "
   ]
  },
  {
   "cell_type": "markdown",
   "id": "84ab591a-449b-4569-8380-cef1444cf065",
   "metadata": {},
   "source": [
    "some of the commonly used data science libraries used by the data scientists is as follows:\n",
    "\n",
    "1. scikit-learn\n",
    "2. tensorflow\n",
    "3. pytorch\n",
    "4. numpy\n",
    "5. scipy\n",
    "6. matplotlib\n",
    "7. pandas "
   ]
  },
  {
   "cell_type": "markdown",
   "id": "1d6f8694-b96e-490a-919f-c05b6971a2be",
   "metadata": {},
   "source": [
    "following are the data science tools:\n",
    "\n",
    "| Data science Tools |\n",
    "| --------------------- |\n",
    "| Open source Tools  |\n",
    "| commercial tools |\n",
    "| cloud based tools |\n"
   ]
  },
  {
   "cell_type": "markdown",
   "id": "7a16fd0a-83e3-42ab-ad09-49b1347096fe",
   "metadata": {},
   "source": [
    "### below are the few examples of evaluating arithmetic expression in python\n",
    "\n",
    "\n"
   ]
  },
  {
   "cell_type": "code",
   "execution_count": 1,
   "id": "8a8c8caa-aaae-4953-8845-0a3f1f26556d",
   "metadata": {
    "tags": []
   },
   "outputs": [
    {
     "data": {
      "text/plain": [
       "17"
      ]
     },
     "execution_count": 1,
     "metadata": {},
     "output_type": "execute_result"
    }
   ],
   "source": [
    "# this is a simple arithmetic expression to multiply then dd integers.\n",
    "(3*4)+5"
   ]
  },
  {
   "cell_type": "code",
   "execution_count": 2,
   "id": "c7b71514-8550-44ac-b456-040b7da45521",
   "metadata": {
    "tags": []
   },
   "outputs": [
    {
     "name": "stdout",
     "output_type": "stream",
     "text": [
      "3.3333333333333335\n"
     ]
    }
   ],
   "source": [
    "# following line will convert 200 minutes to hours by dividing by 60.\n",
    "print(200/60)"
   ]
  },
  {
   "cell_type": "markdown",
   "id": "3d499eb2-bee1-4ce1-a97a-d126609685ef",
   "metadata": {},
   "source": [
    "***objectives***\n",
    "- we learn about categories of data science tools\n",
    "- python, java, SQL ,R are the popular languages used for data science\n",
    "- numpy,scipy,pytorch,matplotlib etc are the various libraries used in data science\n"
   ]
  },
  {
   "cell_type": "markdown",
   "id": "a0b6c2aa-e2b2-424d-994b-417e7ceec683",
   "metadata": {},
   "source": [
    "## Author\n",
    "   sakshi chougale"
   ]
  },
  {
   "cell_type": "code",
   "execution_count": null,
   "id": "c414fe8b-5bd5-4e1a-848b-9989c4d191d0",
   "metadata": {},
   "outputs": [],
   "source": []
  }
 ],
 "metadata": {
  "kernelspec": {
   "display_name": "Python",
   "language": "python",
   "name": "conda-env-python-py"
  },
  "language_info": {
   "codemirror_mode": {
    "name": "ipython",
    "version": 3
   },
   "file_extension": ".py",
   "mimetype": "text/x-python",
   "name": "python",
   "nbconvert_exporter": "python",
   "pygments_lexer": "ipython3",
   "version": "3.7.12"
  }
 },
 "nbformat": 4,
 "nbformat_minor": 5
}
